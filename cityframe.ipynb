{
 "cells": [
  {
   "cell_type": "code",
   "execution_count": 1,
   "metadata": {},
   "outputs": [],
   "source": [
    "# Dependencies\n",
    "import pandas as pd"
   ]
  },
  {
   "cell_type": "code",
   "execution_count": 2,
   "metadata": {},
   "outputs": [],
   "source": [
    "# Store filepath in a variable\n",
    "city = \"cities.csv\""
   ]
  },
  {
   "cell_type": "code",
   "execution_count": 3,
   "metadata": {},
   "outputs": [],
   "source": [
    "# Read our Data file with the pandas library\n",
    "# Not every CSV requires an encoding, but be aware this can come up\n",
    "city_df = pd.read_csv(city, encoding=\"ISO-8859-1\")"
   ]
  },
  {
   "cell_type": "code",
   "execution_count": 4,
   "metadata": {},
   "outputs": [
    {
     "data": {
      "text/html": [
       "<div>\n",
       "<style scoped>\n",
       "    .dataframe tbody tr th:only-of-type {\n",
       "        vertical-align: middle;\n",
       "    }\n",
       "\n",
       "    .dataframe tbody tr th {\n",
       "        vertical-align: top;\n",
       "    }\n",
       "\n",
       "    .dataframe thead th {\n",
       "        text-align: right;\n",
       "    }\n",
       "</style>\n",
       "<table border=\"1\" class=\"dataframe\">\n",
       "  <thead>\n",
       "    <tr style=\"text-align: right;\">\n",
       "      <th></th>\n",
       "      <th>City_ID</th>\n",
       "      <th>City</th>\n",
       "      <th>Lat</th>\n",
       "      <th>Lng</th>\n",
       "      <th>Max Temp</th>\n",
       "      <th>Humidity</th>\n",
       "      <th>Cloudiness</th>\n",
       "      <th>Wind Speed</th>\n",
       "      <th>Country</th>\n",
       "      <th>Date</th>\n",
       "    </tr>\n",
       "  </thead>\n",
       "  <tbody>\n",
       "    <tr>\n",
       "      <td>0</td>\n",
       "      <td>0</td>\n",
       "      <td>pumiao</td>\n",
       "      <td>22.75</td>\n",
       "      <td>108.48</td>\n",
       "      <td>68.00</td>\n",
       "      <td>94</td>\n",
       "      <td>90</td>\n",
       "      <td>2.24</td>\n",
       "      <td>CN</td>\n",
       "      <td>1583533055</td>\n",
       "    </tr>\n",
       "    <tr>\n",
       "      <td>1</td>\n",
       "      <td>1</td>\n",
       "      <td>hilo</td>\n",
       "      <td>19.73</td>\n",
       "      <td>-155.09</td>\n",
       "      <td>77.00</td>\n",
       "      <td>69</td>\n",
       "      <td>75</td>\n",
       "      <td>19.46</td>\n",
       "      <td>US</td>\n",
       "      <td>1583532949</td>\n",
       "    </tr>\n",
       "    <tr>\n",
       "      <td>2</td>\n",
       "      <td>2</td>\n",
       "      <td>rikitea</td>\n",
       "      <td>-23.12</td>\n",
       "      <td>-134.97</td>\n",
       "      <td>78.33</td>\n",
       "      <td>79</td>\n",
       "      <td>100</td>\n",
       "      <td>23.80</td>\n",
       "      <td>PF</td>\n",
       "      <td>1583533062</td>\n",
       "    </tr>\n",
       "    <tr>\n",
       "      <td>3</td>\n",
       "      <td>3</td>\n",
       "      <td>hithadhoo</td>\n",
       "      <td>-0.60</td>\n",
       "      <td>73.08</td>\n",
       "      <td>82.99</td>\n",
       "      <td>68</td>\n",
       "      <td>0</td>\n",
       "      <td>8.41</td>\n",
       "      <td>MV</td>\n",
       "      <td>1583533062</td>\n",
       "    </tr>\n",
       "    <tr>\n",
       "      <td>4</td>\n",
       "      <td>4</td>\n",
       "      <td>atuona</td>\n",
       "      <td>-9.80</td>\n",
       "      <td>-139.03</td>\n",
       "      <td>81.34</td>\n",
       "      <td>68</td>\n",
       "      <td>23</td>\n",
       "      <td>11.34</td>\n",
       "      <td>PF</td>\n",
       "      <td>1583533062</td>\n",
       "    </tr>\n",
       "  </tbody>\n",
       "</table>\n",
       "</div>"
      ],
      "text/plain": [
       "   City_ID       City    Lat     Lng  Max Temp  Humidity  Cloudiness  \\\n",
       "0        0     pumiao  22.75  108.48     68.00        94          90   \n",
       "1        1       hilo  19.73 -155.09     77.00        69          75   \n",
       "2        2    rikitea -23.12 -134.97     78.33        79         100   \n",
       "3        3  hithadhoo  -0.60   73.08     82.99        68           0   \n",
       "4        4     atuona  -9.80 -139.03     81.34        68          23   \n",
       "\n",
       "   Wind Speed Country        Date  \n",
       "0        2.24      CN  1583533055  \n",
       "1       19.46      US  1583532949  \n",
       "2       23.80      PF  1583533062  \n",
       "3        8.41      MV  1583533062  \n",
       "4       11.34      PF  1583533062  "
      ]
     },
     "execution_count": 4,
     "metadata": {},
     "output_type": "execute_result"
    }
   ],
   "source": [
    "city_df.head()"
   ]
  },
  {
   "cell_type": "code",
   "execution_count": 6,
   "metadata": {},
   "outputs": [
    {
     "data": {
      "text/plain": [
       "<bound method DataFrame.to_html of      City_ID         City    Lat     Lng  Max Temp  Humidity  Cloudiness  \\\n",
       "0          0       pumiao  22.75  108.48     68.00        94          90   \n",
       "1          1         hilo  19.73 -155.09     77.00        69          75   \n",
       "2          2      rikitea -23.12 -134.97     78.33        79         100   \n",
       "3          3    hithadhoo  -0.60   73.08     82.99        68           0   \n",
       "4          4       atuona  -9.80 -139.03     81.34        68          23   \n",
       "..       ...          ...    ...     ...       ...       ...         ...   \n",
       "554      554  bandarbeyla   9.49   50.81     77.67        79           1   \n",
       "555      555    kathmandu  27.72   85.32     51.80        76          75   \n",
       "556      556     freeport  40.66  -73.58     45.00        52          90   \n",
       "557      557       duluth  46.78  -92.11     35.60        63           1   \n",
       "558      558    bembereke  10.23    2.66     82.29        11          52   \n",
       "\n",
       "     Wind Speed Country        Date  \n",
       "0          2.24      CN  1583533055  \n",
       "1         19.46      US  1583532949  \n",
       "2         23.80      PF  1583533062  \n",
       "3          8.41      MV  1583533062  \n",
       "4         11.34      PF  1583533062  \n",
       "..          ...     ...         ...  \n",
       "554       11.54      SO  1583533110  \n",
       "555        9.17      NP  1583533110  \n",
       "556       16.11      US  1583532853  \n",
       "557        5.82      US  1583532921  \n",
       "558        3.98      BJ  1583533111  \n",
       "\n",
       "[559 rows x 10 columns]>"
      ]
     },
     "execution_count": 6,
     "metadata": {},
     "output_type": "execute_result"
    }
   ],
   "source": [
    "city_df.to_html"
   ]
  },
  {
   "cell_type": "code",
   "execution_count": 7,
   "metadata": {},
   "outputs": [],
   "source": [
    "city_df.to_html(\"cities.html\", index=False, header=True)"
   ]
  },
  {
   "cell_type": "code",
   "execution_count": null,
   "metadata": {},
   "outputs": [],
   "source": []
  }
 ],
 "metadata": {
  "kernelspec": {
   "display_name": "Python 3",
   "language": "python",
   "name": "python3"
  },
  "language_info": {
   "codemirror_mode": {
    "name": "ipython",
    "version": 3
   },
   "file_extension": ".py",
   "mimetype": "text/x-python",
   "name": "python",
   "nbconvert_exporter": "python",
   "pygments_lexer": "ipython3",
   "version": "3.7.4"
  }
 },
 "nbformat": 4,
 "nbformat_minor": 2
}
